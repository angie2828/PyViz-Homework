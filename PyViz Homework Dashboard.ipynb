{
 "cells": [
  {
   "cell_type": "code",
   "execution_count": null,
   "id": "a36a1f58-5d02-4b1f-8817-3175fb246fb8",
   "metadata": {},
   "outputs": [],
   "source": [
    "# imports\n",
    "import panel as pn\n",
    "pn.extension('plotly')\n",
    "import plotly.express as px\n",
    "import pandas as pd\n",
    "import hvplot.pandas\n",
    "import matplotlib.pyplot as plt\n",
    "import os\n",
    "from pathlib import Path\n",
    "from dotenv import load_dotenv\n",
    "from panel.interact import interact"
   ]
  },
  {
   "cell_type": "code",
   "execution_count": null,
   "id": "1ed1bac4-dc1f-4e92-840a-b417fbe1eb49",
   "metadata": {},
   "outputs": [],
   "source": [
    "pip install matplotlib"
   ]
  },
  {
   "cell_type": "code",
   "execution_count": null,
   "id": "7e71c604-1fec-4e68-8df4-be52fc1b4564",
   "metadata": {},
   "outputs": [],
   "source": [
    "# Read the Mapbox API key\n",
    "map_box_api = os.getenv(\"mapbox\")\n",
    "px.set_mapbox_access_token(map_box_api)"
   ]
  },
  {
   "cell_type": "code",
   "execution_count": null,
   "id": "3f7f34b8-f151-43aa-b2bb-1bdb6ec8b5e5",
   "metadata": {},
   "outputs": [],
   "source": [
    "# Import the CSVs to Pandas DataFrames\n",
    "file_path = Path('sfo_neighborhoods_census_data.csv')\n",
    "sf_data = pd.read_csv(file_path, index_col=\"year\")\n",
    "\n",
    "file_path_2 = Path('neighborhoods_coordinates.csv')\n",
    "df_neighborhood_locations = pd.read_csv(file_path)"
   ]
  },
  {
   "cell_type": "code",
   "execution_count": null,
   "id": "75271448-2083-4844-ae23-a7c8ebb7a6bb",
   "metadata": {},
   "outputs": [],
   "source": [
    "# Define Panel Visualization Functions\n",
    "def housing_units_per_year():\n",
    "    \"\"\"Housing Units Per Year.\"\"\"\n",
    "\n",
    "    \n",
    "    housing_units = sf_data[\"housing_units\"]\n",
    "    housing_units = housing_units.groupby([sf_data.index]).mean()\n",
    "    \n",
    "    housing_units_fig = plt.figure()\n",
    "    housing_units_plot = housing_units.plot.bar(x='year', ylim=[1000, 1000], title=\"Housing Units per Year\")\n",
    "    plt.close(housing_units_fig)\n",
    "    \n",
    "    return pn.pane.matplotlib(housing_units_fig)"
   ]
  },
  {
   "cell_type": "code",
   "execution_count": null,
   "id": "b745c5a0-8edf-449b-ad51-0eabe775d4b4",
   "metadata": {},
   "outputs": [],
   "source": [
    "def average_gross_rent():  \n",
    "    \"\"\"Average Gross Rent in San Francisco Per Year.\"\"\"\n",
    "    average_rent_sqr_foot = sf_data[\"gross_rent\"].groupby([sf_data.index]).mean()\n",
    "    \n",
    "    gross_rent_fig = plt.figure()\n",
    "    average_rent_plot = (average_rent_sqr_foot.plot.line(x='year', y='gross_rent', title=\"Average Gross Rent per Year\"))\n",
    "    plt.close(gross_rent_fig)\n",
    "    \n",
    "    return pn.pane.Matplotlib(gross_rent_fig)"
   ]
  },
  {
   "cell_type": "code",
   "execution_count": null,
   "id": "b8b91417-5b47-453a-ac9b-3aadf50c2a89",
   "metadata": {},
   "outputs": [],
   "source": [
    "def average_sales_price():\n",
    "    \"\"\"Average Sales Price Per Year.\"\"\"\n",
    "    \n",
    "    average_price_sqr_foot = sf_data[\"sale_price_sqr_foot\"].groupby([sf_data.index]).mean()\n",
    "    sales_price_fig = plt.figure()\n",
    "    average_price_plot = (average_price_sqr_foot.plot.line(x='year', y='sale_price_sqr_foot', title=\"Average Sales Price per Year\"))\n",
    "    plt.close(sales_price_fig)\n",
    "    \n",
    "    return pn.pane.Matplotlib(sales_price_fig)"
   ]
  },
  {
   "cell_type": "code",
   "execution_count": null,
   "id": "90c7ff1d-a11b-4634-a1d0-1139596d0c19",
   "metadata": {},
   "outputs": [],
   "source": [
    "def average_price_by_neighborhood(neighborhood):\n",
    "    \"\"\"Average Prices by Neighborhood.\"\"\"\n",
    "    \n",
    "    sf_data_new = sf_data.groupby([sf_data.index, \"neighborhood\"]).mean()\n",
    "    sfo_sales = sf_data_new[\"sale_price_sqr_foot\"]\n",
    "    sfo_sales_df = pd.DataFrame(sfo_sales).reset_index()\n",
    "     \n",
    "    \n",
    "    return sfo_sales_df.loc[sfo_sales_df['neighborhood']==neighborhood,:].hvplot.line(\n",
    "        x=\"year\",\n",
    "        y=\"sale_price_sqr_foot\",\n",
    "        colormap=\"coolwarm\",\n",
    "        title=\"SF Sale per Square foot per Year\",\n",
    "    )\n",
    "\n",
    "sf_data_new = sf_data.groupby([sf_data.index, \"neighborhood\"]).mean()\n",
    "sfo_sales = sf_data_new[\"sale_price_sqr_foot\"]\n",
    "sfo_sales_df = pd.DataFrame(sfo_sales).reset_index()\n",
    "neighborhood_choice = sfo_sales_df[\"neighborhood\"].unique()\n",
    "interact(average_price_by_neighborhood, neighborhood=neighborhood_choice)"
   ]
  },
  {
   "cell_type": "code",
   "execution_count": null,
   "id": "5529474b-ab90-4645-8a13-b6d7218a4c75",
   "metadata": {},
   "outputs": [],
   "source": [
    "def top_most_expensive_neighborhoods():\n",
    "    \"\"\"Top 10 Most Expensive Neighborhoods.\"\"\"\n",
    "    \n",
    "    avg_value_per_neighborhood = sf_data.groupby([sf_data[\"neighborhood\"]]).mean()\n",
    "    avg_value_per_neighborhood = avg_value_per_neighborhood.reset_index()\n",
    "    top_10_most_expensive = avg_value_per_neighborhood.nlargest(10, 'sale_price_sqr_foot').reset_index()\n",
    "    top10_plot = px.bar(top_10_most_expensive,\n",
    "    x=\"neighborhood\", \n",
    "    y=\"sale_price_sqr_foot\", \n",
    "    title=\"Top 10 Most Expensive Neighborhoods\", \n",
    "    )\n",
    "\n",
    "    return top10_plot"
   ]
  },
  {
   "cell_type": "code",
   "execution_count": null,
   "id": "7bc3e0a8-5d14-4903-ba11-3f3a890b0248",
   "metadata": {},
   "outputs": [],
   "source": [
    "def parallel_coordinates():\n",
    "    \"\"\"Parallel Coordinates Plot.\"\"\"\n",
    "    \n",
    "    avg_value_per_neighborhood = sf_data.groupby([sf_data[\"neighborhood\"]]).mean()    \n",
    "    top_10_most_expensive = avg_value_per_neighborhood.nlargest(10, 'sale_price_sqr_foot').reset_index()\n",
    "    top_10_parallel = px.parallel_coordinates(\n",
    "    top_10_most_expensive, \n",
    "    color='sale_price_sqr_foot')\n",
    "\n",
    "    return top_10_parallel"
   ]
  },
  {
   "cell_type": "code",
   "execution_count": null,
   "id": "607b521c-6ee4-4a83-a668-dcf99cdbfb18",
   "metadata": {},
   "outputs": [],
   "source": [
    "def parallel_categories():\n",
    "    \"\"\"Parallel Categories Plot.\"\"\"\n",
    "    \n",
    "    avg_value_per_neighborhood = sf_data.groupby([sf_data[\"neighborhood\"]]).mean()  \n",
    "    top_10_ex_neighborhood = avg_value_per_neighborhood.nlargest(10, 'sale_price_sqr_foot').reset_index()\n",
    "    top_10_parallel_categories = px.parallel_categories(\n",
    "    top_10_ex_neighborhood,\n",
    "    dimensions=[\"neighborhood\", \"sale_price_sqr_foot\", \"housing_units\", \"gross_rent\"],\n",
    "    color=\"sale_price_sqr_foot\",)\n",
    "\n",
    "    return top_10_parallel_categories"
   ]
  },
  {
   "cell_type": "code",
   "execution_count": null,
   "id": "ba78f444-6a21-4f07-a5d3-cc0e5df740f9",
   "metadata": {},
   "outputs": [],
   "source": [
    "def neighborhood_map():\n",
    "    \"\"\"Neighborhood Map\"\"\"\n",
    "    \n",
    "    file_path = Path('neighborhoods_coordinates.csv')\n",
    "    df_neighborhood_location = pd.read_csv(file_path)\n",
    "    avg_value_per_neighborhood = sf_data.groupby([sf_data[\"neighborhood\"]]).mean()  \n",
    "    avg_value_per_neighborhood = avg_value_per_neighborhood.reset_index()\n",
    "    avg_value_location = pd.concat([avg_value_per_neighborhood, df_neighborhood_location], axis=\"columns\", join=\"inner\")\n",
    "\n",
    "    location_map = px.scatter_mapbox(\n",
    "    avg_value_location,\n",
    "    lat=\"Lat\",\n",
    "    lon=\"Lon\",\n",
    "    size=\"sale_price_sqr_foot\",\n",
    "    color=\"gross_rent\")\n",
    "    \n",
    "    return location_map"
   ]
  },
  {
   "cell_type": "code",
   "execution_count": null,
   "id": "7b517553-989c-4ad3-b6e7-49763e0d4d5c",
   "metadata": {},
   "outputs": [],
   "source": [
    "def sunburst():\n",
    "    \"\"\"Sunburst plot.\"\"\"\n",
    "    fig = px.sunburst(sf_data,\n",
    "                  path=[\"neighborhood\", \"gross_rent\", \"sale_price_sqr_foot\"],\n",
    "                  values='year',\n",
    "                  width=800, height=500)\n",
    "    fig.show() \n",
    "    "
   ]
  },
  {
   "cell_type": "code",
   "execution_count": null,
   "id": "398b176e-34b1-4604-848e-8cf1332c5672",
   "metadata": {},
   "outputs": [],
   "source": [
    "#Create a Title for the Dashboard\n",
    "title = '#San Francisco Real Estate Analysis from 2010-2016'\n",
    "presentation_tab = pn.Row(pn.Column(title), neighborhood_map())\n",
    "\n",
    "#Create a tab layout for the Dashboard\n",
    "market_analysis_row = pn.Row(housing_units_per_year(), average_gross_rent(), average_sales_price())\n",
    "\n",
    "\n",
    "neighborhood_analysis_tab = pn.Column(interact(average_price_by_neighborhood, neighborhood=neighborhood_choice),\n",
    "    top_most_expensive_neighborhoods())\n",
    "\n",
    "parallel_plots_tab = pn.Column( \n",
    "    parallel_categories(),\n",
    "    parallel_coordinates())\n",
    "\n",
    "\n",
    "# Create tabs\n",
    "\n",
    "SF_REPrices_Dashboard = pn.Tabs((\"Real Estate Presentation\", presentation_tab), \n",
    "(\"Yearly Market Analysis\", market_analysis_row),\n",
    "(\"Neighborhood Analysis\", neighborhood_analysis_tab), \n",
    "(\"Interactive Market Analysis by Neighborhood\", parallel_plots_tab))"
   ]
  },
  {
   "cell_type": "code",
   "execution_count": null,
   "id": "e7168f9c-dbef-44bb-8991-8255edbe5b04",
   "metadata": {},
   "outputs": [],
   "source": [
    "#Serve the Dashboard\n",
    "dashboard = pn.Column(SF_REPrices_Dashboard, width=900)"
   ]
  },
  {
   "cell_type": "code",
   "execution_count": null,
   "id": "92557cfb-326b-4202-ae39-d267547905a3",
   "metadata": {},
   "outputs": [],
   "source": [
    "dashboard.servable()"
   ]
  },
  {
   "cell_type": "code",
   "execution_count": null,
   "id": "1c22b060-5f46-4efb-9ade-33e9e5354478",
   "metadata": {},
   "outputs": [],
   "source": []
  }
 ],
 "metadata": {
  "kernelspec": {
   "display_name": "Python [conda env:pyvizenv2]",
   "language": "python",
   "name": "conda-env-pyvizenv2-py"
  },
  "language_info": {
   "codemirror_mode": {
    "name": "ipython",
    "version": 3
   },
   "file_extension": ".py",
   "mimetype": "text/x-python",
   "name": "python",
   "nbconvert_exporter": "python",
   "pygments_lexer": "ipython3",
   "version": "3.7.10"
  }
 },
 "nbformat": 4,
 "nbformat_minor": 5
}
